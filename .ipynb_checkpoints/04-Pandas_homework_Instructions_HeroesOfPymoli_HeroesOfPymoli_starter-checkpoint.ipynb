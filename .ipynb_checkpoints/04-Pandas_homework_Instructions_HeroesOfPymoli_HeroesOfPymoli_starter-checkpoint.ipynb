{
 "cells": [
  {
   "cell_type": "markdown",
   "metadata": {},
   "source": [
    "## ORIGINAL DATA"
   ]
  },
  {
   "cell_type": "code",
   "execution_count": 166,
   "metadata": {},
   "outputs": [
    {
     "data": {
      "text/html": [
       "<div>\n",
       "<style scoped>\n",
       "    .dataframe tbody tr th:only-of-type {\n",
       "        vertical-align: middle;\n",
       "    }\n",
       "\n",
       "    .dataframe tbody tr th {\n",
       "        vertical-align: top;\n",
       "    }\n",
       "\n",
       "    .dataframe thead th {\n",
       "        text-align: right;\n",
       "    }\n",
       "</style>\n",
       "<table border=\"1\" class=\"dataframe\">\n",
       "  <thead>\n",
       "    <tr style=\"text-align: right;\">\n",
       "      <th></th>\n",
       "      <th>Purchase ID</th>\n",
       "      <th>SN</th>\n",
       "      <th>Age</th>\n",
       "      <th>Gender</th>\n",
       "      <th>Item ID</th>\n",
       "      <th>Item Name</th>\n",
       "      <th>Price</th>\n",
       "    </tr>\n",
       "  </thead>\n",
       "  <tbody>\n",
       "    <tr>\n",
       "      <th>467</th>\n",
       "      <td>467</td>\n",
       "      <td>Adairialis76</td>\n",
       "      <td>16</td>\n",
       "      <td>Male</td>\n",
       "      <td>123</td>\n",
       "      <td>Twilight's Carver</td>\n",
       "      <td>2.28</td>\n",
       "    </tr>\n",
       "    <tr>\n",
       "      <th>142</th>\n",
       "      <td>142</td>\n",
       "      <td>Adastirin33</td>\n",
       "      <td>35</td>\n",
       "      <td>Female</td>\n",
       "      <td>175</td>\n",
       "      <td>Woeful Adamantite Claymore</td>\n",
       "      <td>4.48</td>\n",
       "    </tr>\n",
       "    <tr>\n",
       "      <th>388</th>\n",
       "      <td>388</td>\n",
       "      <td>Aeda94</td>\n",
       "      <td>17</td>\n",
       "      <td>Male</td>\n",
       "      <td>128</td>\n",
       "      <td>Blazeguard, Reach of Eternity</td>\n",
       "      <td>4.91</td>\n",
       "    </tr>\n",
       "    <tr>\n",
       "      <th>28</th>\n",
       "      <td>28</td>\n",
       "      <td>Aela59</td>\n",
       "      <td>21</td>\n",
       "      <td>Male</td>\n",
       "      <td>119</td>\n",
       "      <td>Stormbringer, Dark Blade of Ending Misery</td>\n",
       "      <td>4.32</td>\n",
       "    </tr>\n",
       "    <tr>\n",
       "      <th>630</th>\n",
       "      <td>630</td>\n",
       "      <td>Aelaria33</td>\n",
       "      <td>23</td>\n",
       "      <td>Male</td>\n",
       "      <td>171</td>\n",
       "      <td>Scalpel</td>\n",
       "      <td>1.79</td>\n",
       "    </tr>\n",
       "  </tbody>\n",
       "</table>\n",
       "</div>"
      ],
      "text/plain": [
       "     Purchase ID            SN  Age  Gender  Item ID  \\\n",
       "467          467  Adairialis76   16    Male      123   \n",
       "142          142   Adastirin33   35  Female      175   \n",
       "388          388        Aeda94   17    Male      128   \n",
       "28            28        Aela59   21    Male      119   \n",
       "630          630     Aelaria33   23    Male      171   \n",
       "\n",
       "                                     Item Name  Price  \n",
       "467                          Twilight's Carver   2.28  \n",
       "142                 Woeful Adamantite Claymore   4.48  \n",
       "388              Blazeguard, Reach of Eternity   4.91  \n",
       "28   Stormbringer, Dark Blade of Ending Misery   4.32  \n",
       "630                                    Scalpel   1.79  "
      ]
     },
     "execution_count": 166,
     "metadata": {},
     "output_type": "execute_result"
    }
   ],
   "source": [
    "# Dependencies and Setup\n",
    "import pandas as pd\n",
    "import numpy as np\n",
    "\n",
    "# File to Load (Remember to Change These)\n",
    "csv_path = \"Resources/04-Pandas_homework_Instructions_HeroesOfPymoli_Resources_purchase_data.csv\"\n",
    "\n",
    "# Read Purchasing File and store into Pandas data frame\n",
    "file_df = pd.read_csv(csv_path)\n",
    "#sort by SN alphabetically\n",
    "file_df = file_df.sort_values(\"SN\")\n",
    "\n",
    "file_df.head()"
   ]
  },
  {
   "cell_type": "markdown",
   "metadata": {},
   "source": [
    "## Player Count"
   ]
  },
  {
   "cell_type": "code",
   "execution_count": 167,
   "metadata": {},
   "outputs": [
    {
     "name": "stdout",
     "output_type": "stream",
     "text": [
      "PLAYER COUNT\n",
      "Total Unique Players: 576\n",
      "Total Plays: 780\n"
     ]
    }
   ],
   "source": [
    "#PLAYER COUNT\n",
    "print(\"PLAYER COUNT\")\n",
    "unique_players = file_df[\"SN\"].nunique()\n",
    "print(f\"Total Unique Players: {unique_players}\")\n",
    "print(f\"Total Plays: {file_df['SN'].count()}\")"
   ]
  },
  {
   "cell_type": "markdown",
   "metadata": {},
   "source": [
    "## Purchasing Analysis (Total)"
   ]
  },
  {
   "cell_type": "markdown",
   "metadata": {},
   "source": [
    "* Number of Unique Items\n",
    "* Average Purchase Price\n",
    "* Total Number of Purchases\n",
    "* Total Revenue"
   ]
  },
  {
   "cell_type": "code",
   "execution_count": 168,
   "metadata": {
    "scrolled": true
   },
   "outputs": [
    {
     "name": "stdout",
     "output_type": "stream",
     "text": [
      "Total Unique Items: 179\n",
      "Total Unique Purchases: 780\n",
      "Total Revenue: $2379.77\n"
     ]
    },
    {
     "data": {
      "text/html": [
       "<div>\n",
       "<style scoped>\n",
       "    .dataframe tbody tr th:only-of-type {\n",
       "        vertical-align: middle;\n",
       "    }\n",
       "\n",
       "    .dataframe tbody tr th {\n",
       "        vertical-align: top;\n",
       "    }\n",
       "\n",
       "    .dataframe thead th {\n",
       "        text-align: right;\n",
       "    }\n",
       "</style>\n",
       "<table border=\"1\" class=\"dataframe\">\n",
       "  <thead>\n",
       "    <tr style=\"text-align: right;\">\n",
       "      <th></th>\n",
       "      <th>Avg. Price</th>\n",
       "    </tr>\n",
       "    <tr>\n",
       "      <th>Item Name</th>\n",
       "      <th></th>\n",
       "    </tr>\n",
       "  </thead>\n",
       "  <tbody>\n",
       "    <tr>\n",
       "      <th>Abyssal Shard</th>\n",
       "      <td>$2.67</td>\n",
       "    </tr>\n",
       "    <tr>\n",
       "      <th>Aetherius, Boon of the Blessed</th>\n",
       "      <td>$3.39</td>\n",
       "    </tr>\n",
       "    <tr>\n",
       "      <th>Agatha</th>\n",
       "      <td>$3.08</td>\n",
       "    </tr>\n",
       "    <tr>\n",
       "      <th>Alpha</th>\n",
       "      <td>$2.07</td>\n",
       "    </tr>\n",
       "    <tr>\n",
       "      <th>Alpha, Oath of Zeal</th>\n",
       "      <td>$4.05</td>\n",
       "    </tr>\n",
       "  </tbody>\n",
       "</table>\n",
       "</div>"
      ],
      "text/plain": [
       "                               Avg. Price\n",
       "Item Name                                \n",
       "Abyssal Shard                       $2.67\n",
       "Aetherius, Boon of the Blessed      $3.39\n",
       "Agatha                              $3.08\n",
       "Alpha                               $2.07\n",
       "Alpha, Oath of Zeal                 $4.05"
      ]
     },
     "execution_count": 168,
     "metadata": {},
     "output_type": "execute_result"
    }
   ],
   "source": [
    "#Extract the necessary data from the main file\n",
    "PA_df = file_df[['Purchase ID','Item Name', 'Price']]\n",
    "##PA_df.head()\n",
    "\n",
    "#NUMBER OF UNIQUE ITEMS + PURCHASES\n",
    "unique_items = PA_df[\"Item Name\"].nunique()\n",
    "print(f\"Total Unique Items: {unique_items}\")\n",
    "\n",
    "unique_purchases = PA_df[\"Purchase ID\"].nunique()\n",
    "print(f\"Total Unique Purchases: {unique_purchases}\")\n",
    "\n",
    "#TOTAL REVENUE\n",
    "total_rev = file_df[\"Price\"].sum()\n",
    "print(f\"Total Revenue: ${total_rev}\")\n",
    "\n",
    "#Grouped by Item Name\n",
    "item_group = PA_df.groupby([\"Item Name\"])\n",
    "#Found the Avg of each Item\n",
    "average_purchase_price = item_group.mean()\n",
    "#Format Price to 2 decimals w/ a $ sign\n",
    "average_purchase_price[\"Price\"] = average_purchase_price[\"Price\"].astype(float).map(\"${:.2f}\".format)\n",
    "#Rename Price to Avg Price\n",
    "average_purchase_price = average_purchase_price.rename(columns={\"Price\":\"Avg. Price\"})\n",
    "#Drop the Purchase ID\n",
    "average_purchase_price = average_purchase_price.drop(columns=[\"Purchase ID\"])\n",
    "\n",
    "average_purchase_price.head()"
   ]
  },
  {
   "cell_type": "code",
   "execution_count": 169,
   "metadata": {},
   "outputs": [
    {
     "name": "stdout",
     "output_type": "stream",
     "text": [
      "Avg Item Price: $3.05\n"
     ]
    }
   ],
   "source": [
    "#TOTAL AVG\n",
    "total_avg = file_df[\"Price\"].mean()\n",
    "total_avg = round(total_avg,2)\n",
    "print(f\"Avg Item Price: ${total_avg}\")"
   ]
  },
  {
   "cell_type": "markdown",
   "metadata": {},
   "source": [
    "## Gender Demographics"
   ]
  },
  {
   "cell_type": "markdown",
   "metadata": {},
   "source": [
    "* Percentage and Count of Male Players\n",
    "\n",
    "\n",
    "* Percentage and Count of Female Players\n",
    "\n",
    "\n",
    "* Percentage and Count of Other / Non-Disclosed\n",
    "\n",
    "\n"
   ]
  },
  {
   "cell_type": "code",
   "execution_count": 170,
   "metadata": {},
   "outputs": [],
   "source": [
    "#CREATE THE DF\n",
    "#Remove duplicates of the SN\n",
    "de_duped_sns = file_df.drop_duplicates(subset=\"SN\")\n",
    "\n",
    "gender_group = de_duped_sns.drop(columns=[\"Purchase ID\",\"Age\",\"Item ID\",\"Item Name\",\"Price\"])\n",
    "gender_group = gender_group.rename(columns={\"SN\":\"Gender Count\"})\n",
    "\n",
    "#Group by Gender\n",
    "gender_group = gender_group.groupby([\"Gender\"])\n",
    "\n",
    "#Convert Group to DF\n",
    "gender_df = pd.DataFrame(gender_group[\"Gender Count\"].count())\n",
    "#gender_df.head()"
   ]
  },
  {
   "cell_type": "code",
   "execution_count": 171,
   "metadata": {},
   "outputs": [],
   "source": [
    "#DETERMINE THE PERCENTAGES AND MAKE THEM INTO A SEPARATE DF\n",
    "female_percent = gender_df.loc[\"Female\",\"Gender Count\"]/unique_players*100\n",
    "#print(f\"Female Players: {female_percent}%\")\n",
    "\n",
    "male_percent = gender_df.loc[\"Male\",\"Gender Count\"]/unique_players*100\n",
    "#print(f\"Male Players: {male_percent}%\")\n",
    "\n",
    "non_disclosed_percent = gender_df.loc[\"Other / Non-Disclosed\",\"Gender Count\"]/unique_players*100\n",
    "#print(f\"Non-Disclosed Players: {non_disclosed_percent}%\")\n",
    "\n",
    "gen_percent_df = pd.DataFrame({\n",
    "    \"Gender\": [\"Female\",\"Male\",\"Other / Non-Disclosed\"],\n",
    "    \"Gender Percent\": [female_percent, male_percent, non_disclosed_percent]})\n",
    "#gen_percent_df"
   ]
  },
  {
   "cell_type": "code",
   "execution_count": 172,
   "metadata": {},
   "outputs": [
    {
     "data": {
      "text/html": [
       "<div>\n",
       "<style scoped>\n",
       "    .dataframe tbody tr th:only-of-type {\n",
       "        vertical-align: middle;\n",
       "    }\n",
       "\n",
       "    .dataframe tbody tr th {\n",
       "        vertical-align: top;\n",
       "    }\n",
       "\n",
       "    .dataframe thead th {\n",
       "        text-align: right;\n",
       "    }\n",
       "</style>\n",
       "<table border=\"1\" class=\"dataframe\">\n",
       "  <thead>\n",
       "    <tr style=\"text-align: right;\">\n",
       "      <th></th>\n",
       "      <th>Gender Count</th>\n",
       "      <th>Gender Percent</th>\n",
       "    </tr>\n",
       "    <tr>\n",
       "      <th>Gender</th>\n",
       "      <th></th>\n",
       "      <th></th>\n",
       "    </tr>\n",
       "  </thead>\n",
       "  <tbody>\n",
       "    <tr>\n",
       "      <th>Female</th>\n",
       "      <td>81</td>\n",
       "      <td>14.06%</td>\n",
       "    </tr>\n",
       "    <tr>\n",
       "      <th>Male</th>\n",
       "      <td>484</td>\n",
       "      <td>84.03%</td>\n",
       "    </tr>\n",
       "    <tr>\n",
       "      <th>Other / Non-Disclosed</th>\n",
       "      <td>11</td>\n",
       "      <td>1.91%</td>\n",
       "    </tr>\n",
       "  </tbody>\n",
       "</table>\n",
       "</div>"
      ],
      "text/plain": [
       "                       Gender Count Gender Percent\n",
       "Gender                                            \n",
       "Female                           81         14.06%\n",
       "Male                            484         84.03%\n",
       "Other / Non-Disclosed            11          1.91%"
      ]
     },
     "execution_count": 172,
     "metadata": {},
     "output_type": "execute_result"
    }
   ],
   "source": [
    "#MERGE THE TWO DFs\n",
    "\n",
    "merge_genders = pd.merge(gender_df, gen_percent_df, on=\"Gender\")\n",
    "#set new index\n",
    "merge_genders = merge_genders.set_index(\"Gender\")\n",
    "#format percents\n",
    "merge_genders[\"Gender Percent\"] = merge_genders[\"Gender Percent\"].astype(float).map(\"{:.2f}%\".format)\n",
    "\n",
    "merge_genders "
   ]
  },
  {
   "cell_type": "markdown",
   "metadata": {},
   "source": [
    "\n",
    "## Purchasing Analysis (Gender)"
   ]
  },
  {
   "cell_type": "markdown",
   "metadata": {},
   "source": [
    "* Run basic calculations to obtain purchase count, avg. purchase price, avg. purchase total per person etc. by gender\n",
    "\n",
    "The below each broken by gender\n",
    "\n",
    "* Purchase Count\n",
    "* Average Purchase Price\n",
    "* Total Purchase Value\n",
    "* Average Purchase Total per Person by Gender\n",
    "\n",
    "\n",
    "* Create a summary data frame to hold the results\n",
    "\n",
    "\n",
    "* Optional: give the displayed data cleaner formatting\n",
    "\n",
    "\n",
    "* Display the summary data frame"
   ]
  },
  {
   "cell_type": "code",
   "execution_count": 173,
   "metadata": {},
   "outputs": [],
   "source": [
    "#Create thr group object\n",
    "gender_purchase_group = file_df.groupby([\"Gender\"])\n",
    "#gender_purchase_group "
   ]
  },
  {
   "cell_type": "code",
   "execution_count": 174,
   "metadata": {},
   "outputs": [],
   "source": [
    "#PURCHASE COUNT\n",
    "#Convert Group to DF\n",
    "purchases_count_df = pd.DataFrame(gender_purchase_group[\"Purchase ID\"].count())\n",
    "#Rename\n",
    "purchases_count_df = purchases_count_df.rename(columns={\"Purchase ID\":\"Purchase Count\"})\n",
    "\n",
    "#gender_purchases_df.head()"
   ]
  },
  {
   "cell_type": "code",
   "execution_count": 175,
   "metadata": {},
   "outputs": [],
   "source": [
    "#AVG PURCHASE PRICE\n",
    "#Convert Group to DF\n",
    "purchases_price_df = pd.DataFrame(gender_purchase_group[\"Price\"].mean())\n",
    "#Rename\n",
    "purchases_price_df = purchases_price_df.rename(columns={\"Price\":\"Avg Purchase Price\"})\n",
    "\n",
    "#format\n",
    "purchases_price_df = purchases_price_df[\"Avg Purchase Price\"].astype(float).map(\"${:.2f}\".format)\n",
    "\n",
    "#purchases_price_df.head()"
   ]
  },
  {
   "cell_type": "code",
   "execution_count": 176,
   "metadata": {},
   "outputs": [],
   "source": [
    "#TOTAL PURCHASE VALUE\n",
    "#Convert Group to DF\n",
    "purchases_total_df = pd.DataFrame(gender_purchase_group[\"Price\"].sum())\n",
    "#Rename\n",
    "purchases_total_df = purchases_total_df.rename(columns={\"Price\":\"Total Purchases Cost\"})\n",
    "\n",
    "#format\n",
    "purchases_total_df = purchases_total_df[\"Total Purchases Cost\"].astype(float).map(\"${:.2f}\".format)\n",
    "\n",
    "#purchases_total_df.head()"
   ]
  },
  {
   "cell_type": "code",
   "execution_count": 202,
   "metadata": {},
   "outputs": [
    {
     "data": {
      "text/html": [
       "<div>\n",
       "<style scoped>\n",
       "    .dataframe tbody tr th:only-of-type {\n",
       "        vertical-align: middle;\n",
       "    }\n",
       "\n",
       "    .dataframe tbody tr th {\n",
       "        vertical-align: top;\n",
       "    }\n",
       "\n",
       "    .dataframe thead th {\n",
       "        text-align: right;\n",
       "    }\n",
       "</style>\n",
       "<table border=\"1\" class=\"dataframe\">\n",
       "  <thead>\n",
       "    <tr style=\"text-align: right;\">\n",
       "      <th></th>\n",
       "      <th>Purchase Count</th>\n",
       "      <th>Avg Purchase Price</th>\n",
       "      <th>Total Purchases Cost</th>\n",
       "    </tr>\n",
       "    <tr>\n",
       "      <th>Gender</th>\n",
       "      <th></th>\n",
       "      <th></th>\n",
       "      <th></th>\n",
       "    </tr>\n",
       "  </thead>\n",
       "  <tbody>\n",
       "    <tr>\n",
       "      <th>Female</th>\n",
       "      <td>113</td>\n",
       "      <td>$3.20</td>\n",
       "      <td>$361.94</td>\n",
       "    </tr>\n",
       "    <tr>\n",
       "      <th>Male</th>\n",
       "      <td>652</td>\n",
       "      <td>$3.02</td>\n",
       "      <td>$1967.64</td>\n",
       "    </tr>\n",
       "    <tr>\n",
       "      <th>Other / Non-Disclosed</th>\n",
       "      <td>15</td>\n",
       "      <td>$3.35</td>\n",
       "      <td>$50.19</td>\n",
       "    </tr>\n",
       "  </tbody>\n",
       "</table>\n",
       "</div>"
      ],
      "text/plain": [
       "                       Purchase Count Avg Purchase Price Total Purchases Cost\n",
       "Gender                                                                       \n",
       "Female                            113              $3.20              $361.94\n",
       "Male                              652              $3.02             $1967.64\n",
       "Other / Non-Disclosed              15              $3.35               $50.19"
      ]
     },
     "execution_count": 202,
     "metadata": {},
     "output_type": "execute_result"
    }
   ],
   "source": [
    "#MERGE THE THREE DFs\n",
    "\n",
    "triple_merge = purchases_count_df.merge(purchases_price_df, how='outer', left_index=True, right_index=True)\n",
    "triple_merge = triple_merge.merge(purchases_total_df, how='outer', left_index=True, right_index=True)\n",
    "\n",
    "triple_merge.head()\n"
   ]
  },
  {
   "cell_type": "code",
   "execution_count": 178,
   "metadata": {},
   "outputs": [
    {
     "data": {
      "text/html": [
       "<div>\n",
       "<style scoped>\n",
       "    .dataframe tbody tr th:only-of-type {\n",
       "        vertical-align: middle;\n",
       "    }\n",
       "\n",
       "    .dataframe tbody tr th {\n",
       "        vertical-align: top;\n",
       "    }\n",
       "\n",
       "    .dataframe thead th {\n",
       "        text-align: right;\n",
       "    }\n",
       "</style>\n",
       "<table border=\"1\" class=\"dataframe\">\n",
       "  <thead>\n",
       "    <tr style=\"text-align: right;\">\n",
       "      <th></th>\n",
       "      <th></th>\n",
       "      <th>Avg Purchase Price ($)</th>\n",
       "    </tr>\n",
       "    <tr>\n",
       "      <th>Gender</th>\n",
       "      <th>SN</th>\n",
       "      <th></th>\n",
       "    </tr>\n",
       "  </thead>\n",
       "  <tbody>\n",
       "    <tr>\n",
       "      <th rowspan=\"5\" valign=\"top\">Female</th>\n",
       "      <th>Adastirin33</th>\n",
       "      <td>4.48</td>\n",
       "    </tr>\n",
       "    <tr>\n",
       "      <th>Aerithllora36</th>\n",
       "      <td>4.32</td>\n",
       "    </tr>\n",
       "    <tr>\n",
       "      <th>Aethedru70</th>\n",
       "      <td>3.54</td>\n",
       "    </tr>\n",
       "    <tr>\n",
       "      <th>Aidain51</th>\n",
       "      <td>3.45</td>\n",
       "    </tr>\n",
       "    <tr>\n",
       "      <th>Aiduesu86</th>\n",
       "      <td>4.48</td>\n",
       "    </tr>\n",
       "  </tbody>\n",
       "</table>\n",
       "</div>"
      ],
      "text/plain": [
       "                      Avg Purchase Price ($)\n",
       "Gender SN                                   \n",
       "Female Adastirin33                      4.48\n",
       "       Aerithllora36                    4.32\n",
       "       Aethedru70                       3.54\n",
       "       Aidain51                         3.45\n",
       "       Aiduesu86                        4.48"
      ]
     },
     "execution_count": 178,
     "metadata": {},
     "output_type": "execute_result"
    }
   ],
   "source": [
    "#Average Purchase Total per Person by Gender\n",
    "gender_purchase_group2 = file_df.groupby([\"Gender\",\"SN\"])\n",
    "#gender_purchase_group2\n",
    "\n",
    "#AVG PURCHASE PRICE\n",
    "#Convert Group to DF\n",
    "purchases_price_df2 = pd.DataFrame(gender_purchase_group2[\"Price\"].mean())\n",
    "#Rename\n",
    "purchases_price_df2 = purchases_price_df2.rename(columns={\"Price\":\"Avg Purchase Price ($)\"})\n",
    "\n",
    "#purchases_price_df.head()\n",
    "purchases_price_df2.head()"
   ]
  },
  {
   "cell_type": "markdown",
   "metadata": {},
   "source": [
    "## Age Demographics"
   ]
  },
  {
   "cell_type": "markdown",
   "metadata": {},
   "source": [
    "* Establish bins for ages\n",
    "\n",
    "\n",
    "* Categorize the existing players using the age bins. Hint: use pd.cut()\n",
    "\n",
    "\n",
    "* Calculate the numbers and percentages by age group\n",
    "\n",
    "\n",
    "* Create a summary data frame to hold the results\n",
    "\n",
    "\n",
    "* Optional: round the percentage column to two decimal points\n",
    "\n",
    "\n",
    "* Display Age Demographics Table\n"
   ]
  },
  {
   "cell_type": "code",
   "execution_count": 179,
   "metadata": {},
   "outputs": [],
   "source": [
    "max_age = de_duped_sns[\"Age\"].max()\n",
    "#print(max_age)\n",
    "\n",
    "min_age = de_duped_sns[\"Age\"].min()\n",
    "#print(min_age)"
   ]
  },
  {
   "cell_type": "code",
   "execution_count": 180,
   "metadata": {},
   "outputs": [],
   "source": [
    "#Create the Bins\n",
    "bins = [0,10,19,29,39,49]\n",
    "label_names = [\"Kids\",\"Teens\",\"20's\",\"30's\",\"40+\"]"
   ]
  },
  {
   "cell_type": "code",
   "execution_count": 181,
   "metadata": {},
   "outputs": [
    {
     "name": "stderr",
     "output_type": "stream",
     "text": [
      "/Users/Dodge/anaconda3/lib/python3.7/site-packages/ipykernel_launcher.py:2: SettingWithCopyWarning: \n",
      "A value is trying to be set on a copy of a slice from a DataFrame.\n",
      "Try using .loc[row_indexer,col_indexer] = value instead\n",
      "\n",
      "See the caveats in the documentation: http://pandas.pydata.org/pandas-docs/stable/indexing.html#indexing-view-versus-copy\n",
      "  \n"
     ]
    },
    {
     "data": {
      "text/html": [
       "<div>\n",
       "<style scoped>\n",
       "    .dataframe tbody tr th:only-of-type {\n",
       "        vertical-align: middle;\n",
       "    }\n",
       "\n",
       "    .dataframe tbody tr th {\n",
       "        vertical-align: top;\n",
       "    }\n",
       "\n",
       "    .dataframe thead th {\n",
       "        text-align: right;\n",
       "    }\n",
       "</style>\n",
       "<table border=\"1\" class=\"dataframe\">\n",
       "  <thead>\n",
       "    <tr style=\"text-align: right;\">\n",
       "      <th></th>\n",
       "      <th>Purchase ID</th>\n",
       "      <th>SN</th>\n",
       "      <th>Age</th>\n",
       "      <th>Gender</th>\n",
       "      <th>Item ID</th>\n",
       "      <th>Item Name</th>\n",
       "      <th>Price</th>\n",
       "      <th>Age Group</th>\n",
       "    </tr>\n",
       "  </thead>\n",
       "  <tbody>\n",
       "    <tr>\n",
       "      <th>467</th>\n",
       "      <td>467</td>\n",
       "      <td>Adairialis76</td>\n",
       "      <td>16</td>\n",
       "      <td>Male</td>\n",
       "      <td>123</td>\n",
       "      <td>Twilight's Carver</td>\n",
       "      <td>2.28</td>\n",
       "      <td>Teens</td>\n",
       "    </tr>\n",
       "    <tr>\n",
       "      <th>142</th>\n",
       "      <td>142</td>\n",
       "      <td>Adastirin33</td>\n",
       "      <td>35</td>\n",
       "      <td>Female</td>\n",
       "      <td>175</td>\n",
       "      <td>Woeful Adamantite Claymore</td>\n",
       "      <td>4.48</td>\n",
       "      <td>30's</td>\n",
       "    </tr>\n",
       "    <tr>\n",
       "      <th>388</th>\n",
       "      <td>388</td>\n",
       "      <td>Aeda94</td>\n",
       "      <td>17</td>\n",
       "      <td>Male</td>\n",
       "      <td>128</td>\n",
       "      <td>Blazeguard, Reach of Eternity</td>\n",
       "      <td>4.91</td>\n",
       "      <td>Teens</td>\n",
       "    </tr>\n",
       "    <tr>\n",
       "      <th>28</th>\n",
       "      <td>28</td>\n",
       "      <td>Aela59</td>\n",
       "      <td>21</td>\n",
       "      <td>Male</td>\n",
       "      <td>119</td>\n",
       "      <td>Stormbringer, Dark Blade of Ending Misery</td>\n",
       "      <td>4.32</td>\n",
       "      <td>20's</td>\n",
       "    </tr>\n",
       "    <tr>\n",
       "      <th>630</th>\n",
       "      <td>630</td>\n",
       "      <td>Aelaria33</td>\n",
       "      <td>23</td>\n",
       "      <td>Male</td>\n",
       "      <td>171</td>\n",
       "      <td>Scalpel</td>\n",
       "      <td>1.79</td>\n",
       "      <td>20's</td>\n",
       "    </tr>\n",
       "  </tbody>\n",
       "</table>\n",
       "</div>"
      ],
      "text/plain": [
       "     Purchase ID            SN  Age  Gender  Item ID  \\\n",
       "467          467  Adairialis76   16    Male      123   \n",
       "142          142   Adastirin33   35  Female      175   \n",
       "388          388        Aeda94   17    Male      128   \n",
       "28            28        Aela59   21    Male      119   \n",
       "630          630     Aelaria33   23    Male      171   \n",
       "\n",
       "                                     Item Name  Price Age Group  \n",
       "467                          Twilight's Carver   2.28     Teens  \n",
       "142                 Woeful Adamantite Claymore   4.48      30's  \n",
       "388              Blazeguard, Reach of Eternity   4.91     Teens  \n",
       "28   Stormbringer, Dark Blade of Ending Misery   4.32      20's  \n",
       "630                                    Scalpel   1.79      20's  "
      ]
     },
     "execution_count": 181,
     "metadata": {},
     "output_type": "execute_result"
    }
   ],
   "source": [
    "# Slice the data and place it into bins\n",
    "de_duped_sns[\"Age Group\"] = pd.cut(de_duped_sns[\"Age\"],bins,labels=label_names)\n",
    "de_duped_sns.head()"
   ]
  },
  {
   "cell_type": "code",
   "execution_count": 182,
   "metadata": {},
   "outputs": [
    {
     "data": {
      "text/html": [
       "<div>\n",
       "<style scoped>\n",
       "    .dataframe tbody tr th:only-of-type {\n",
       "        vertical-align: middle;\n",
       "    }\n",
       "\n",
       "    .dataframe tbody tr th {\n",
       "        vertical-align: top;\n",
       "    }\n",
       "\n",
       "    .dataframe thead th {\n",
       "        text-align: right;\n",
       "    }\n",
       "</style>\n",
       "<table border=\"1\" class=\"dataframe\">\n",
       "  <thead>\n",
       "    <tr style=\"text-align: right;\">\n",
       "      <th></th>\n",
       "      <th>Count</th>\n",
       "    </tr>\n",
       "    <tr>\n",
       "      <th>Age Group</th>\n",
       "      <th></th>\n",
       "    </tr>\n",
       "  </thead>\n",
       "  <tbody>\n",
       "    <tr>\n",
       "      <th>Kids</th>\n",
       "      <td>24</td>\n",
       "    </tr>\n",
       "    <tr>\n",
       "      <th>Teens</th>\n",
       "      <td>122</td>\n",
       "    </tr>\n",
       "    <tr>\n",
       "      <th>20's</th>\n",
       "      <td>335</td>\n",
       "    </tr>\n",
       "    <tr>\n",
       "      <th>30's</th>\n",
       "      <td>83</td>\n",
       "    </tr>\n",
       "    <tr>\n",
       "      <th>40+</th>\n",
       "      <td>12</td>\n",
       "    </tr>\n",
       "  </tbody>\n",
       "</table>\n",
       "</div>"
      ],
      "text/plain": [
       "           Count\n",
       "Age Group       \n",
       "Kids          24\n",
       "Teens        122\n",
       "20's         335\n",
       "30's          83\n",
       "40+           12"
      ]
     },
     "execution_count": 182,
     "metadata": {},
     "output_type": "execute_result"
    }
   ],
   "source": [
    "#Create thr group object\n",
    "age_group = de_duped_sns.groupby([\"Age Group\"])\n",
    "\n",
    "#Convert Group to DF\n",
    "age_group_df = pd.DataFrame(age_group[\"Age Group\"].count())\n",
    "#Rename\n",
    "age_group_df = age_group_df.rename(columns={\"Age Group\":\"Count\"})\n",
    "\n",
    "age_group_df.head()"
   ]
  },
  {
   "cell_type": "code",
   "execution_count": 183,
   "metadata": {},
   "outputs": [
    {
     "name": "stdout",
     "output_type": "stream",
     "text": [
      "AGE DEMOGRAPHICS TABLE\n"
     ]
    },
    {
     "data": {
      "text/html": [
       "<div>\n",
       "<style scoped>\n",
       "    .dataframe tbody tr th:only-of-type {\n",
       "        vertical-align: middle;\n",
       "    }\n",
       "\n",
       "    .dataframe tbody tr th {\n",
       "        vertical-align: top;\n",
       "    }\n",
       "\n",
       "    .dataframe thead th {\n",
       "        text-align: right;\n",
       "    }\n",
       "</style>\n",
       "<table border=\"1\" class=\"dataframe\">\n",
       "  <thead>\n",
       "    <tr style=\"text-align: right;\">\n",
       "      <th></th>\n",
       "      <th>Age Group</th>\n",
       "      <th>Count</th>\n",
       "      <th>Age Percent</th>\n",
       "    </tr>\n",
       "  </thead>\n",
       "  <tbody>\n",
       "    <tr>\n",
       "      <th>0</th>\n",
       "      <td>Kids</td>\n",
       "      <td>24</td>\n",
       "      <td>4.17%</td>\n",
       "    </tr>\n",
       "    <tr>\n",
       "      <th>1</th>\n",
       "      <td>Teens</td>\n",
       "      <td>122</td>\n",
       "      <td>21.18%</td>\n",
       "    </tr>\n",
       "    <tr>\n",
       "      <th>2</th>\n",
       "      <td>20's</td>\n",
       "      <td>335</td>\n",
       "      <td>58.16%</td>\n",
       "    </tr>\n",
       "    <tr>\n",
       "      <th>3</th>\n",
       "      <td>30's</td>\n",
       "      <td>83</td>\n",
       "      <td>14.41%</td>\n",
       "    </tr>\n",
       "    <tr>\n",
       "      <th>4</th>\n",
       "      <td>40+</td>\n",
       "      <td>12</td>\n",
       "      <td>2.08%</td>\n",
       "    </tr>\n",
       "  </tbody>\n",
       "</table>\n",
       "</div>"
      ],
      "text/plain": [
       "  Age Group  Count Age Percent\n",
       "0      Kids     24       4.17%\n",
       "1     Teens    122      21.18%\n",
       "2      20's    335      58.16%\n",
       "3      30's     83      14.41%\n",
       "4       40+     12       2.08%"
      ]
     },
     "execution_count": 183,
     "metadata": {},
     "output_type": "execute_result"
    }
   ],
   "source": [
    "#DETERMINE THE PERCENTAGES...\n",
    "kids_percent = age_group_df.loc[\"Kids\",\"Count\"]/unique_players*100\n",
    "#print(kids_percent)\n",
    "\n",
    "teens_percent = age_group_df.loc[\"Teens\",\"Count\"]/unique_players*100\n",
    "#print(teens_percent)\n",
    "\n",
    "twentys_percent = age_group_df.loc[\"20's\",\"Count\"]/unique_players*100\n",
    "#print(twentys_percent)\n",
    "\n",
    "thirtys_percent = age_group_df.loc[\"30's\",\"Count\"]/unique_players*100\n",
    "#print(thirtys_percent)\n",
    "\n",
    "fortyplus_percent = age_group_df.loc[\"40+\",\"Count\"]/unique_players*100\n",
    "#print(fortyplus_percent)\n",
    "\n",
    "#...AND MAKE THEM INTO A SEPARATE DF...\n",
    "\n",
    "age_precents_df = pd.DataFrame({\n",
    "    \"Age Group\": [\"Kids\",\"Teens\",\"20's\",\"30's\",\"40+\"],\n",
    "    \"Age Percent\": [kids_percent, teens_percent, twentys_percent,\n",
    "                   thirtys_percent,fortyplus_percent]})\n",
    "#...MERGE THEM TOGETHER...\n",
    "merge_ages = pd.merge(age_group_df, age_precents_df, on=\"Age Group\")\n",
    "\n",
    "#format percents\n",
    "merge_ages[\"Age Percent\"] = merge_ages[\"Age Percent\"].astype(float).map(\"{:.2f}%\".format)\n",
    "print(\"AGE DEMOGRAPHICS TABLE\")\n",
    "merge_ages"
   ]
  },
  {
   "cell_type": "markdown",
   "metadata": {},
   "source": [
    "## Purchasing Analysis (Age)"
   ]
  },
  {
   "cell_type": "markdown",
   "metadata": {},
   "source": [
    "* Bin the purchase_data data frame by age\n",
    "\n",
    "\n",
    "* Run basic calculations to obtain purchase count, avg. purchase price, avg. purchase total per person etc. in the table below\n",
    "\n",
    "\n",
    "* Create a summary data frame to hold the results\n",
    "\n",
    "\n",
    "* Optional: give the displayed data cleaner formatting\n",
    "\n",
    "\n",
    "* Display the summary data frame"
   ]
  },
  {
   "cell_type": "code",
   "execution_count": 204,
   "metadata": {},
   "outputs": [],
   "source": [
    "#Purchase Count\n",
    "pc_df = pd.DataFrame(age_group[\"Price\"].count())\n",
    "#Rename\n",
    "pc_df = pc_df.rename(columns={\"Price\":\"Count\"})\n",
    "#pc_df"
   ]
  },
  {
   "cell_type": "code",
   "execution_count": 205,
   "metadata": {},
   "outputs": [],
   "source": [
    "#Avg Purchase Price\n",
    "age_analysis_df = pd.DataFrame(age_group[\"Price\"].mean())\n",
    "#Rename\n",
    "age_analysis_df = age_analysis_df.rename(columns={\"Price\":\"Avg Price\"})\n",
    "age_analysis_df[\"Avg Price\"] = age_analysis_df[\"Avg Price\"].astype(float).map(\"${:.2f}\".format)\n",
    "#age_analysis_df "
   ]
  },
  {
   "cell_type": "code",
   "execution_count": 206,
   "metadata": {},
   "outputs": [],
   "source": [
    "#Total Purchase Value\n",
    "tpv_df = pd.DataFrame(age_group[\"Price\"].sum())\n",
    "#Rename\n",
    "tpv_df = tpv_df.rename(columns={\"Price\":\"Total Purchase Value\"})\n",
    "tpv_df[\"Total Purchase Value\"] = tpv_df[\"Total Purchase Value\"].astype(float).map(\"${:.2f}\".format)\n",
    "#tpv_df"
   ]
  },
  {
   "cell_type": "code",
   "execution_count": 203,
   "metadata": {},
   "outputs": [
    {
     "data": {
      "text/html": [
       "<div>\n",
       "<style scoped>\n",
       "    .dataframe tbody tr th:only-of-type {\n",
       "        vertical-align: middle;\n",
       "    }\n",
       "\n",
       "    .dataframe tbody tr th {\n",
       "        vertical-align: top;\n",
       "    }\n",
       "\n",
       "    .dataframe thead th {\n",
       "        text-align: right;\n",
       "    }\n",
       "</style>\n",
       "<table border=\"1\" class=\"dataframe\">\n",
       "  <thead>\n",
       "    <tr style=\"text-align: right;\">\n",
       "      <th></th>\n",
       "      <th>Count</th>\n",
       "      <th>Avg Price</th>\n",
       "      <th>Total Purchase Value</th>\n",
       "    </tr>\n",
       "    <tr>\n",
       "      <th>Age Group</th>\n",
       "      <th></th>\n",
       "      <th></th>\n",
       "      <th></th>\n",
       "    </tr>\n",
       "  </thead>\n",
       "  <tbody>\n",
       "    <tr>\n",
       "      <th>Kids</th>\n",
       "      <td>24</td>\n",
       "      <td>$3.43</td>\n",
       "      <td>$82.28</td>\n",
       "    </tr>\n",
       "    <tr>\n",
       "      <th>Teens</th>\n",
       "      <td>122</td>\n",
       "      <td>$3.00</td>\n",
       "      <td>$365.73</td>\n",
       "    </tr>\n",
       "    <tr>\n",
       "      <th>20's</th>\n",
       "      <td>335</td>\n",
       "      <td>$3.01</td>\n",
       "      <td>$1008.86</td>\n",
       "    </tr>\n",
       "    <tr>\n",
       "      <th>30's</th>\n",
       "      <td>83</td>\n",
       "      <td>$3.19</td>\n",
       "      <td>$265.14</td>\n",
       "    </tr>\n",
       "    <tr>\n",
       "      <th>40+</th>\n",
       "      <td>12</td>\n",
       "      <td>$2.90</td>\n",
       "      <td>$34.84</td>\n",
       "    </tr>\n",
       "  </tbody>\n",
       "</table>\n",
       "</div>"
      ],
      "text/plain": [
       "           Count Avg Price Total Purchase Value\n",
       "Age Group                                      \n",
       "Kids          24     $3.43               $82.28\n",
       "Teens        122     $3.00              $365.73\n",
       "20's         335     $3.01             $1008.86\n",
       "30's          83     $3.19              $265.14\n",
       "40+           12     $2.90               $34.84"
      ]
     },
     "execution_count": 203,
     "metadata": {},
     "output_type": "execute_result"
    }
   ],
   "source": [
    "#Triple Merge Summary\n",
    "purchase_analysis_summary = pc_df.merge(age_analysis_df, how='outer', left_index=True, right_index=True)\n",
    "purchase_analysis_summary = purchase_analysis_summary.merge(tpv_df, how='outer', left_index=True, right_index=True)\n",
    "\n",
    "purchase_analysis_summary.head()"
   ]
  },
  {
   "cell_type": "markdown",
   "metadata": {},
   "source": [
    "## Top Spenders"
   ]
  },
  {
   "cell_type": "markdown",
   "metadata": {},
   "source": [
    "* Run basic calculations to obtain the results in the table below\n",
    "\n",
    "\n",
    "* Create a summary data frame to hold the results\n",
    "\n",
    "\n",
    "* Sort the total purchase value column in descending order\n",
    "\n",
    "\n",
    "* Optional: give the displayed data cleaner formatting\n",
    "\n",
    "\n",
    "* Display a preview of the summary data frame\n",
    "\n"
   ]
  },
  {
   "cell_type": "code",
   "execution_count": 231,
   "metadata": {},
   "outputs": [],
   "source": [
    "top_spenders = file_df.groupby(\"SN\")\n",
    "#print(top_spenders)"
   ]
  },
  {
   "cell_type": "code",
   "execution_count": 229,
   "metadata": {},
   "outputs": [],
   "source": [
    "#Purchase Count\n",
    "TS_purchasecount = pd.DataFrame(top_spenders[\"Purchase ID\"].count())\n",
    "TS_purchasecount  = TS_purchasecount .rename(columns={\"Purchase ID\":\"Purchase Count\"})\n",
    "#TS_purchasecount.head()"
   ]
  },
  {
   "cell_type": "code",
   "execution_count": 230,
   "metadata": {},
   "outputs": [],
   "source": [
    "#Average Purchase Value\n",
    "TS_AVGpurchasevalue = pd.DataFrame(top_spenders[\"Price\"].mean())\n",
    "TS_AVGpurchasevalue  = TS_AVGpurchasevalue.rename(columns={\"Price\":\"Avg Purchase Value\"})\n",
    "#TS_AVGpurchasevalue.head()"
   ]
  },
  {
   "cell_type": "code",
   "execution_count": 232,
   "metadata": {},
   "outputs": [],
   "source": [
    "#Total Purchase Value\n",
    "TS_TTLpurchasevalue = pd.DataFrame(top_spenders[\"Price\"].sum())\n",
    "TS_TTLpurchasevalue = TS_TTLpurchasevalue.rename(columns={\"Price\":\"Total Purchase Value\"})\n",
    "#TS_TTLpurchasevalue.head()"
   ]
  },
  {
   "cell_type": "code",
   "execution_count": 226,
   "metadata": {},
   "outputs": [
    {
     "data": {
      "text/html": [
       "<div>\n",
       "<style scoped>\n",
       "    .dataframe tbody tr th:only-of-type {\n",
       "        vertical-align: middle;\n",
       "    }\n",
       "\n",
       "    .dataframe tbody tr th {\n",
       "        vertical-align: top;\n",
       "    }\n",
       "\n",
       "    .dataframe thead th {\n",
       "        text-align: right;\n",
       "    }\n",
       "</style>\n",
       "<table border=\"1\" class=\"dataframe\">\n",
       "  <thead>\n",
       "    <tr style=\"text-align: right;\">\n",
       "      <th></th>\n",
       "      <th>Total Purchase Value</th>\n",
       "      <th>Purchase Count</th>\n",
       "      <th>Avg Purchase Value</th>\n",
       "    </tr>\n",
       "    <tr>\n",
       "      <th>SN</th>\n",
       "      <th></th>\n",
       "      <th></th>\n",
       "      <th></th>\n",
       "    </tr>\n",
       "  </thead>\n",
       "  <tbody>\n",
       "    <tr>\n",
       "      <th>Lisosia93</th>\n",
       "      <td>$18.96</td>\n",
       "      <td>5</td>\n",
       "      <td>$3.79</td>\n",
       "    </tr>\n",
       "    <tr>\n",
       "      <th>Idastidru52</th>\n",
       "      <td>$15.45</td>\n",
       "      <td>4</td>\n",
       "      <td>$3.86</td>\n",
       "    </tr>\n",
       "    <tr>\n",
       "      <th>Chamjask73</th>\n",
       "      <td>$13.83</td>\n",
       "      <td>3</td>\n",
       "      <td>$4.61</td>\n",
       "    </tr>\n",
       "    <tr>\n",
       "      <th>Iral74</th>\n",
       "      <td>$13.62</td>\n",
       "      <td>4</td>\n",
       "      <td>$3.41</td>\n",
       "    </tr>\n",
       "    <tr>\n",
       "      <th>Iskadarya95</th>\n",
       "      <td>$13.10</td>\n",
       "      <td>3</td>\n",
       "      <td>$4.37</td>\n",
       "    </tr>\n",
       "  </tbody>\n",
       "</table>\n",
       "</div>"
      ],
      "text/plain": [
       "            Total Purchase Value  Purchase Count Avg Purchase Value\n",
       "SN                                                                 \n",
       "Lisosia93                 $18.96               5              $3.79\n",
       "Idastidru52               $15.45               4              $3.86\n",
       "Chamjask73                $13.83               3              $4.61\n",
       "Iral74                    $13.62               4              $3.41\n",
       "Iskadarya95               $13.10               3              $4.37"
      ]
     },
     "execution_count": 226,
     "metadata": {},
     "output_type": "execute_result"
    }
   ],
   "source": [
    "#Merge\n",
    "merge_TopSpenders = pd.merge(TS_TTLpurchasevalue, TS_purchasecount, on=\"SN\")\n",
    "merge_TopSpenders = pd.merge(merge_TopSpenders, TS_AVGpurchasevalue, on=\"SN\")\n",
    "#Sort\n",
    "sortby_PV = merge_TopSpenders.sort_values(\"Total Purchase Value\", ascending = False)\n",
    "#Format\n",
    "sortby_PV[\"Total Purchase Value\"] = sortby_PV[\"Total Purchase Value\"].astype(float).map(\"${:.2f}\".format)\n",
    "sortby_PV[\"Avg Purchase Value\"] = sortby_PV[\"Avg Purchase Value\"].astype(float).map(\"${:.2f}\".format)\n",
    "\n",
    "sortby_PV.head()"
   ]
  },
  {
   "cell_type": "markdown",
   "metadata": {},
   "source": [
    "## Most Popular Items"
   ]
  },
  {
   "cell_type": "markdown",
   "metadata": {},
   "source": [
    "* Retrieve the Item ID, Item Name, and Item Price columns\n",
    "\n",
    "\n",
    "* Group by Item ID and Item Name. Perform calculations to obtain purchase count, item price, and total purchase value\n",
    "\n",
    "\n",
    "* Create a summary data frame to hold the results\n",
    "\n",
    "\n",
    "* Sort the purchase count column in descending order\n",
    "\n",
    "\n",
    "* Optional: give the displayed data cleaner formatting\n",
    "\n",
    "\n",
    "* Display a preview of the summary data frame\n",
    "\n"
   ]
  },
  {
   "cell_type": "code",
   "execution_count": 264,
   "metadata": {},
   "outputs": [],
   "source": [
    "#extract the data\n",
    "most_pop_df = file_df[[\"Item ID\",\"Item Name\",\"Price\"]]\n",
    "#Remove duplicates of the SN\n",
    "most_pop_df = most_pop_df.drop_duplicates(subset=\"Item Name\")\n",
    "#most_pop_df.head()"
   ]
  },
  {
   "cell_type": "code",
   "execution_count": 265,
   "metadata": {},
   "outputs": [],
   "source": [
    "#group it\n",
    "most_pop_group = file_df.groupby([\"Item ID\",\"Item Name\"])\n",
    "\n",
    "#print(most_pop_group)"
   ]
  },
  {
   "cell_type": "code",
   "execution_count": 266,
   "metadata": {},
   "outputs": [],
   "source": [
    "#Purchase Count\n",
    "MP_purchasecount = pd.DataFrame(most_pop_group[\"Purchase ID\"].count())\n",
    "MP_purchasecount  = MP_purchasecount .rename(columns={\"Purchase ID\":\"Purchase Count\"})\n",
    "#MP_purchasecount.head()"
   ]
  },
  {
   "cell_type": "code",
   "execution_count": 267,
   "metadata": {},
   "outputs": [],
   "source": [
    "#Total Purchase Value\n",
    "MP_tpv = pd.DataFrame(most_pop_group[\"Price\"].sum())\n",
    "MP_tpv  = MP_tpv .rename(columns={\"Price\":\"Total Purchase Value\"})\n",
    "#MP_tpv .head()"
   ]
  },
  {
   "cell_type": "code",
   "execution_count": 274,
   "metadata": {},
   "outputs": [],
   "source": [
    "#Merge\n",
    "merge_most_pop = pd.merge(most_pop_df, MP_purchasecount, on=\"Item Name\")\n",
    "merge_most_pop = pd.merge(merge_most_pop, MP_tpv, on=\"Item Name\")\n",
    "\n",
    "#set new index\n",
    "merge_most_pop = merge_most_pop.set_index(\"Item ID\")\n",
    "\n",
    "#Sort\n",
    "merge_most_pop = merge_most_pop.sort_values(\"Total Purchase Value\", ascending = False)\n",
    "#Format\n",
    "merge_most_pop[\"Total Purchase Value\"] = merge_most_pop[\"Total Purchase Value\"].astype(float).map(\"${:.2f}\".format)\n",
    "merge_most_pop[\"Price\"] = merge_most_pop[\"Price\"].astype(float).map(\"${:.2f}\".format)"
   ]
  },
  {
   "cell_type": "markdown",
   "metadata": {},
   "source": [
    "## Most Profitable Items"
   ]
  },
  {
   "cell_type": "markdown",
   "metadata": {},
   "source": [
    "* Sort the above table by total purchase value in descending order\n",
    "\n",
    "\n",
    "* Optional: give the displayed data cleaner formatting\n",
    "\n",
    "\n",
    "* Display a preview of the data frame\n",
    "\n"
   ]
  },
  {
   "cell_type": "code",
   "execution_count": 275,
   "metadata": {},
   "outputs": [
    {
     "data": {
      "text/html": [
       "<div>\n",
       "<style scoped>\n",
       "    .dataframe tbody tr th:only-of-type {\n",
       "        vertical-align: middle;\n",
       "    }\n",
       "\n",
       "    .dataframe tbody tr th {\n",
       "        vertical-align: top;\n",
       "    }\n",
       "\n",
       "    .dataframe thead th {\n",
       "        text-align: right;\n",
       "    }\n",
       "</style>\n",
       "<table border=\"1\" class=\"dataframe\">\n",
       "  <thead>\n",
       "    <tr style=\"text-align: right;\">\n",
       "      <th></th>\n",
       "      <th>Item Name</th>\n",
       "      <th>Price</th>\n",
       "      <th>Purchase Count</th>\n",
       "      <th>Total Purchase Value</th>\n",
       "    </tr>\n",
       "    <tr>\n",
       "      <th>Item ID</th>\n",
       "      <th></th>\n",
       "      <th></th>\n",
       "      <th></th>\n",
       "      <th></th>\n",
       "    </tr>\n",
       "  </thead>\n",
       "  <tbody>\n",
       "    <tr>\n",
       "      <th>178</th>\n",
       "      <td>Oathbreaker, Last Hope of the Breaking Storm</td>\n",
       "      <td>$4.23</td>\n",
       "      <td>12</td>\n",
       "      <td>$50.76</td>\n",
       "    </tr>\n",
       "    <tr>\n",
       "      <th>82</th>\n",
       "      <td>Nirvana</td>\n",
       "      <td>$4.90</td>\n",
       "      <td>9</td>\n",
       "      <td>$44.10</td>\n",
       "    </tr>\n",
       "    <tr>\n",
       "      <th>145</th>\n",
       "      <td>Fiery Glass Crusader</td>\n",
       "      <td>$4.58</td>\n",
       "      <td>9</td>\n",
       "      <td>$41.22</td>\n",
       "    </tr>\n",
       "    <tr>\n",
       "      <th>92</th>\n",
       "      <td>Final Critic</td>\n",
       "      <td>$4.88</td>\n",
       "      <td>8</td>\n",
       "      <td>$39.04</td>\n",
       "    </tr>\n",
       "    <tr>\n",
       "      <th>92</th>\n",
       "      <td>Final Critic</td>\n",
       "      <td>$4.88</td>\n",
       "      <td>5</td>\n",
       "      <td>$39.04</td>\n",
       "    </tr>\n",
       "  </tbody>\n",
       "</table>\n",
       "</div>"
      ],
      "text/plain": [
       "                                            Item Name  Price  Purchase Count  \\\n",
       "Item ID                                                                        \n",
       "178      Oathbreaker, Last Hope of the Breaking Storm  $4.23              12   \n",
       "82                                            Nirvana  $4.90               9   \n",
       "145                              Fiery Glass Crusader  $4.58               9   \n",
       "92                                       Final Critic  $4.88               8   \n",
       "92                                       Final Critic  $4.88               5   \n",
       "\n",
       "        Total Purchase Value  \n",
       "Item ID                       \n",
       "178                   $50.76  \n",
       "82                    $44.10  \n",
       "145                   $41.22  \n",
       "92                    $39.04  \n",
       "92                    $39.04  "
      ]
     },
     "execution_count": 275,
     "metadata": {},
     "output_type": "execute_result"
    }
   ],
   "source": [
    "merge_most_pop.head()"
   ]
  },
  {
   "cell_type": "code",
   "execution_count": null,
   "metadata": {},
   "outputs": [],
   "source": []
  }
 ],
 "metadata": {
  "anaconda-cloud": {},
  "kernel_info": {
   "name": "python3"
  },
  "kernelspec": {
   "display_name": "Python 3",
   "language": "python",
   "name": "python3"
  },
  "language_info": {
   "codemirror_mode": {
    "name": "ipython",
    "version": 3
   },
   "file_extension": ".py",
   "mimetype": "text/x-python",
   "name": "python",
   "nbconvert_exporter": "python",
   "pygments_lexer": "ipython3",
   "version": "3.7.3"
  },
  "latex_envs": {
   "LaTeX_envs_menu_present": true,
   "autoclose": false,
   "autocomplete": true,
   "bibliofile": "biblio.bib",
   "cite_by": "apalike",
   "current_citInitial": 1,
   "eqLabelWithNumbers": true,
   "eqNumInitial": 1,
   "hotkeys": {
    "equation": "Ctrl-E",
    "itemize": "Ctrl-I"
   },
   "labels_anchors": false,
   "latex_user_defs": false,
   "report_style_numbering": false,
   "user_envs_cfg": false
  },
  "nteract": {
   "version": "0.2.0"
  }
 },
 "nbformat": 4,
 "nbformat_minor": 2
}
